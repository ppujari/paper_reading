{
  "cells": [
    {
      "cell_type": "code",
      "source": [
        "from transformers import pipeline\n",
        "\n",
        "pl = pipeline(\"text-generation\", model=\"medalpaca/medalpaca-7b\", tokenizer=\"medalpaca/medalpaca-7b\", max_new_tokens = 1000)\n",
        "question = \"What are the symptoms of diabetes?\"\n",
        "context = \"Diabetes is a metabolic disease that causes high blood sugar. The symptoms include increased thirst, frequent urination, and unexplained weight loss.\"\n",
        "answer = pl(f\"Context: {context}\\n\\nQuestion: {question}\\n\\nAnswer: \")\n",
        "print(answer)"
      ],
      "outputs": [
        {
          "output_type": "stream",
          "name": "stderr",
          "text": "2024-01-05 08:53:28.421166: I tensorflow/core/platform/cpu_feature_guard.cc:193] This TensorFlow binary is optimized with oneAPI Deep Neural Network Library (oneDNN) to use the following CPU instructions in performance-critical operations:  AVX2 AVX512F AVX512_VNNI FMA\nTo enable them in other operations, rebuild TensorFlow with the appropriate compiler flags.\n2024-01-05 08:53:28.809267: I tensorflow/core/util/port.cc:104] oneDNN custom operations are on. You may see slightly different numerical results due to floating-point round-off errors from different computation orders. To turn them off, set the environment variable `TF_ENABLE_ONEDNN_OPTS=0`.\n2024-01-05 08:53:28.872727: W tensorflow/compiler/xla/stream_executor/platform/default/dso_loader.cc:64] Could not load dynamic library 'libcudart.so.11.0'; dlerror: libcudart.so.11.0: cannot open shared object file: No such file or directory\n2024-01-05 08:53:28.872751: I tensorflow/compiler/xla/stream_executor/cuda/cudart_stub.cc:29] Ignore above cudart dlerror if you do not have a GPU set up on your machine.\n2024-01-05 08:53:30.178888: W tensorflow/compiler/xla/stream_executor/platform/default/dso_loader.cc:64] Could not load dynamic library 'libnvinfer.so.7'; dlerror: libnvinfer.so.7: cannot open shared object file: No such file or directory\n2024-01-05 08:53:30.179018: W tensorflow/compiler/xla/stream_executor/platform/default/dso_loader.cc:64] Could not load dynamic library 'libnvinfer_plugin.so.7'; dlerror: libnvinfer_plugin.so.7: cannot open shared object file: No such file or directory\n2024-01-05 08:53:30.179029: W tensorflow/compiler/tf2tensorrt/utils/py_utils.cc:38] TF-TRT Warning: Cannot dlopen some TensorRT libraries. If you would like to use Nvidia GPU with TensorRT, please make sure the missing libraries mentioned above are installed properly.\n"
        },
        {
          "output_type": "display_data",
          "data": {
            "text/plain": "Loading checkpoint shards:   0%|          | 0/3 [00:00<?, ?it/s]",
            "application/vnd.jupyter.widget-view+json": {
              "version_major": 2,
              "version_minor": 0,
              "model_id": "cc1c86fee89d450c88e910e4468f46bc"
            }
          },
          "metadata": {}
        },
        {
          "output_type": "stream",
          "name": "stderr",
          "text": "/anaconda/envs/azureml_py38/lib/python3.8/site-packages/transformers/generation/utils.py:1201: UserWarning: You have modified the pretrained model configuration to control generation. This is a deprecated strategy to control generation and will be removed soon, in a future version. Please use a generation configuration file (see https://huggingface.co/docs/transformers/main_classes/text_generation)\n  warnings.warn(\n"
        },
        {
          "output_type": "stream",
          "name": "stdout",
          "text": "[{'generated_text': 'Context: Diabetes is a metabolic disease that causes high blood sugar. The symptoms include increased thirst, frequent urination, and unexplained weight loss.\\n\\nQuestion: What are the symptoms of diabetes?\\n\\nAnswer: \\n\\nThe symptoms of diabetes include increased thirst, frequent urination, unexplained weight loss, increased appetite, blurred vision, and fatigue.'}]\n"
        }
      ],
      "execution_count": 1,
      "metadata": {
        "gather": {
          "logged": 1704445286553
        }
      }
    },
    {
      "cell_type": "code",
      "source": [
        "query = \"How to cure COVID-19?\"\n",
        "answer = pl(query)\n",
        "print(answer)"
      ],
      "outputs": [
        {
          "output_type": "stream",
          "name": "stdout",
          "text": "[{'generated_text': 'How to cure COVID-19?\\nThe first step is to stop the spread of the virus. This is the responsibility of everyone.\\nThe second step is to find a cure.\\nThe third step is to find a vaccine.\\nThe fourth step is to find a way to prevent the virus from coming back.\\nThe fifth step is to find a way to prevent other viruses from becoming as dangerous as COVID-19.\\nThe sixth step is to make sure that the people who are most at risk from the virus get the best possible care.\\nThe seventh step is to make sure that the people who are most at risk from the virus get the best possible care.\\nThe eighth step is to make sure that the people who are most at risk from the virus get the best possible care.\\nThe ninth step is to make sure that the people who are most at risk from the virus get the best possible care.\\nThe tenth step is to make sure that the people who are most at risk from the virus get the best possible care.\\nThe eleventh step is to make sure that the people who are most at risk from the virus get the best possible care.\\nThe twelfth step is to make sure that the people who are most at risk from the virus get the best possible care.\\nThe thirteenth step is to make sure that the people who are most at risk from the virus get the best possible care.\\nThe fourteenth step is to make sure that the people who are most at risk from the virus get the best possible care.\\nThe fifteenth step is to make sure that the people who are most at risk from the virus get the best possible care.\\nThe sixteenth step is to make sure that the people who are most at risk from the virus get the best possible care.\\nThe seventeenth step is to make sure that the people who are most at risk from the virus get the best possible care.\\nThe eighteenth step is to make sure that the people who are most at risk from the virus get the best possible care.\\nThe nineteenth step is to make sure that the people who are most at risk from the virus get the best possible care.\\nThe twentieth step is to make sure that the people who are most at risk from the virus get the best possible care.\\nThe twenty-first step is to make sure that the people who are most at risk from the virus get the best possible care.\\nThe twenty-second step is to make sure that the people who are most at risk from the virus get the best possible care.\\nThe twenty-third step is to make sure that the people who are most at risk from the virus get the best possible care.\\nThe twenty-fourth step is to make sure that the people who are most at risk from the virus get the best possible care.\\nThe twenty-fifth step is to make sure that the people who are most at risk from the virus get the best possible care.\\nThe twenty-sixth step is to make sure that the people who are most at risk from the virus get the best possible care.\\nThe twenty-seventh step is to make sure that the people who are most at risk from the virus get the best possible care.\\nThe twenty-eighth step is to make sure that the people who are most at risk from the virus get the best possible care.\\nThe twenty-ninth step is to make sure that the people who are most at risk from the virus get the best possible care.\\nThe thirtieth step is to make sure that the people who are most at risk from the virus get the best possible care.\\nThe thirty-first step is to make sure that the people who are most at risk from the virus get the best possible care.\\nThe thirty-second step is to make sure that the people who are most at risk from the virus get the best possible care.\\nThe thirty-third step is to make sure that the people who are most at risk from the virus get the best possible care.\\nThe thirty-fourth step is to make sure that the people who are most at risk from the virus get the best possible care.\\nThe thirty-fifth step is to make sure that the people who are most at risk from the virus get the best possible care.\\nThe thirty-sixth step is to make sure that the people who are most at risk from the virus get the best possible care.\\nThe thirty-seventh step is to make sure that the people who are most at risk from the virus get the best possible care.\\nThe thirty-eighth step is to make sure that the people who are most at risk from the virus get the best possible care.\\nThe thirty-ninth step is to make sure that the people who are most at risk from the'}]\n"
        }
      ],
      "execution_count": 2,
      "metadata": {
        "jupyter": {
          "source_hidden": false,
          "outputs_hidden": false
        },
        "nteract": {
          "transient": {
            "deleting": false
          }
        },
        "gather": {
          "logged": 1704446639492
        }
      }
    }
  ],
  "metadata": {
    "kernelspec": {
      "name": "python38-azureml",
      "language": "python",
      "display_name": "Python 3.8 - AzureML"
    },
    "language_info": {
      "name": "python",
      "version": "3.8.5",
      "mimetype": "text/x-python",
      "codemirror_mode": {
        "name": "ipython",
        "version": 3
      },
      "pygments_lexer": "ipython3",
      "nbconvert_exporter": "python",
      "file_extension": ".py"
    },
    "microsoft": {
      "ms_spell_check": {
        "ms_spell_check_language": "en"
      },
      "host": {
        "AzureML": {
          "notebookHasBeenCompleted": true
        }
      }
    },
    "kernel_info": {
      "name": "python38-azureml"
    },
    "nteract": {
      "version": "nteract-front-end@1.0.0"
    }
  },
  "nbformat": 4,
  "nbformat_minor": 2
}